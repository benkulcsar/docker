{
 "cells": [
  {
   "cell_type": "code",
   "execution_count": 1,
   "id": "9c032d2f-79b2-4f03-943e-8d6d8778b680",
   "metadata": {},
   "outputs": [],
   "source": [
    "import os\n",
    "from pyspark import SparkConf\n",
    "from pyspark.sql import SparkSession"
   ]
  },
  {
   "cell_type": "code",
   "execution_count": 2,
   "id": "b843bdea-fb3e-4434-8a93-cfc60becd7d1",
   "metadata": {},
   "outputs": [],
   "source": [
    "aws_access_key_id = os.environ['AWS_ACCESS_KEY_ID']\n",
    "aws_secret_access_key = os.environ['AWS_SECRET_ACCESS_KEY']\n",
    "bucket_name = os.environ['TF_VAR_test_s3_bucket']"
   ]
  },
  {
   "cell_type": "code",
   "execution_count": 3,
   "id": "27c1ef9e-5665-46cd-9a96-0af138bb7258",
   "metadata": {},
   "outputs": [],
   "source": [
    "conf = (\n",
    "    SparkConf()\n",
    "    .set(\"spark.hadoop.fs.s3a.access.key\", aws_access_key_id)\n",
    "    .set(\"spark.hadoop.fs.s3a.secret.key\", aws_secret_access_key)\n",
    "    .set(\"spark.hadoop.fs.s3a.endpoint\", \"s3.amazonaws.com\")\n",
    "    .set(\"spark.hadoop.fs.s3a.impl\", \"org.apache.hadoop.fs.s3a.S3AFileSystem\")\n",
    "    .set(\"com.amazonaws.services.s3.enableV4\", True)\n",
    ")\n",
    "\n",
    "spark = SparkSession.builder.master(\"local[1]\") \\\n",
    "                    .appName('s3-writer') \\\n",
    "                    .config(conf=conf) \\\n",
    "                    .getOrCreate()"
   ]
  },
  {
   "cell_type": "code",
   "execution_count": 4,
   "id": "5b2ad998-c873-4114-946c-ff64c4adf22c",
   "metadata": {},
   "outputs": [],
   "source": [
    "df = spark.createDataFrame([(1, \"foo\"), (2, \"bar\")], [\"id\", \"label\"])"
   ]
  },
  {
   "cell_type": "code",
   "execution_count": 5,
   "id": "cfe4f82e-8569-4255-a789-776523ef2c45",
   "metadata": {},
   "outputs": [],
   "source": [
    "s3_path=f\"s3a://{bucket_name}/foobar\""
   ]
  },
  {
   "cell_type": "code",
   "execution_count": 6,
   "id": "ebb2338c-b590-4e45-9eb8-892619f33a1b",
   "metadata": {},
   "outputs": [],
   "source": [
    "df.write.format('csv').option('header','true').mode(\"overwrite\").save(s3_path)"
   ]
  },
  {
   "cell_type": "code",
   "execution_count": 7,
   "id": "c2a4cfdf-6315-4e93-8339-561dd368e408",
   "metadata": {},
   "outputs": [],
   "source": [
    "df_read = spark.read.format(\"csv\").option('header','true').load(s3_path)"
   ]
  },
  {
   "cell_type": "code",
   "execution_count": 8,
   "id": "5cc0a58b-f39a-4eb1-88fd-35d44c4ab8ac",
   "metadata": {},
   "outputs": [
    {
     "name": "stdout",
     "output_type": "stream",
     "text": [
      "+---+-----+\n",
      "| id|label|\n",
      "+---+-----+\n",
      "|  1|  foo|\n",
      "|  2|  bar|\n",
      "+---+-----+\n",
      "\n"
     ]
    }
   ],
   "source": [
    "df_read.show()"
   ]
  }
 ],
 "metadata": {
  "kernelspec": {
   "display_name": "Python 3 (ipykernel)",
   "language": "python",
   "name": "python3"
  },
  "language_info": {
   "codemirror_mode": {
    "name": "ipython",
    "version": 3
   },
   "file_extension": ".py",
   "mimetype": "text/x-python",
   "name": "python",
   "nbconvert_exporter": "python",
   "pygments_lexer": "ipython3",
   "version": "3.10.5"
  }
 },
 "nbformat": 4,
 "nbformat_minor": 5
}
